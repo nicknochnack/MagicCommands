{
 "cells": [
  {
   "cell_type": "markdown",
   "id": "f4998bde-d8e2-495a-802d-7bd677851cd2",
   "metadata": {},
   "source": [
    "# Magic"
   ]
  },
  {
   "cell_type": "code",
   "execution_count": 20,
   "id": "867ee5b7-58e1-4eb4-a7d2-67bb006d74d3",
   "metadata": {
    "tags": []
   },
   "outputs": [],
   "source": [
    "%notebook exported.ipynb"
   ]
  },
  {
   "cell_type": "code",
   "execution_count": 21,
   "id": "6b417364-9aec-48e1-8c3b-4ddd4d1809e1",
   "metadata": {
    "tags": []
   },
   "outputs": [
    {
     "name": "stdout",
     "output_type": "stream",
     "text": [
      "351 ns ± 0.646 ns per loop (mean ± std. dev. of 7 runs, 1,000,000 loops each)\n"
     ]
    }
   ],
   "source": [
    "%%timeit\n",
    "from sklearn.model_selection import BaseShuffleSplit"
   ]
  },
  {
   "cell_type": "code",
   "execution_count": 22,
   "id": "69ccc086-24fc-4b9e-89fb-9c80a871c0c8",
   "metadata": {
    "tags": []
   },
   "outputs": [
    {
     "data": {
      "application/javascript": [
       "console.log('yolo dolo')\n"
      ],
      "text/plain": [
       "<IPython.core.display.Javascript object>"
      ]
     },
     "metadata": {},
     "output_type": "display_data"
    }
   ],
   "source": [
    "%%javascript\n",
    "console.log('yolo dolo')"
   ]
  },
  {
   "cell_type": "code",
   "execution_count": 23,
   "id": "ac963a4a-62b6-44fc-b5cd-49ba6fe7ce23",
   "metadata": {
    "tags": []
   },
   "outputs": [
    {
     "data": {
      "text/latex": [
       "$x^2 + 2ab + c$\n"
      ],
      "text/plain": [
       "<IPython.core.display.Latex object>"
      ]
     },
     "metadata": {},
     "output_type": "display_data"
    }
   ],
   "source": [
    "%%latex\n",
    "$x^2 + 2ab + c$"
   ]
  },
  {
   "cell_type": "code",
   "execution_count": 25,
   "id": "92b74d8f-ba32-47ee-8315-12ab5c721fc8",
   "metadata": {
    "tags": []
   },
   "outputs": [
    {
     "name": "stdout",
     "output_type": "stream",
     "text": [
      "Magic.ipynb\n",
      "Python Basics.ipynb\n",
      "exported.ipynb\n"
     ]
    }
   ],
   "source": [
    "%%bash \n",
    "ls"
   ]
  },
  {
   "cell_type": "code",
   "execution_count": null,
   "id": "51f7bbbe-9504-49d3-825e-c27d1b5fc524",
   "metadata": {},
   "outputs": [],
   "source": []
  }
 ],
 "metadata": {
  "kernelspec": {
   "display_name": "fullstack",
   "language": "python",
   "name": "fullstack"
  },
  "language_info": {
   "codemirror_mode": {
    "name": "ipython",
    "version": 3
   },
   "file_extension": ".py",
   "mimetype": "text/x-python",
   "name": "python",
   "nbconvert_exporter": "python",
   "pygments_lexer": "ipython3",
   "version": "3.9.12"
  }
 },
 "nbformat": 4,
 "nbformat_minor": 5
}
